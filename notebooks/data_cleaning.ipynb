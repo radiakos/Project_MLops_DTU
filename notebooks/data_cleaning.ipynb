{
 "cells": [
  {
   "cell_type": "code",
   "execution_count": 1,
   "metadata": {},
   "outputs": [],
   "source": [
    "import os\n",
    "import matplotlib.pyplot  as plt\n",
    "import pandas as pd\n",
    "from sklearn.model_selection import train_test_split\n",
    "from PIL import Image, ImageOps\n",
    "import numpy as np"
   ]
  },
  {
   "cell_type": "code",
   "execution_count": 2,
   "metadata": {},
   "outputs": [],
   "source": [
    "data_dir = \"../data/raw/fruit_images\"\n",
    "bad_quality_path = data_dir + \"/bad_quality_fruits\"\n",
    "good_quality_path = data_dir + \"/good_quality_fruits\"\n",
    "mixed_quality_path = data_dir + \"/mixed_quality_fruits\"\n",
    "\n",
    "file_paths=[]\n",
    "labels=[]\n",
    "height = 0\n",
    "width = 0 \n",
    "samples = 0\n",
    "sample_count = 20\n",
    "\n",
    "for fruit_quality in [bad_quality_path, good_quality_path, mixed_quality_path]:\n",
    "    fruit_list = os.listdir(fruit_quality)\n",
    "    for fruit in fruit_list:\n",
    "        fruit_path = os.path.join(fruit_quality, fruit)\n",
    "        image_list = os.listdir(fruit_path)\n",
    "        for i, img in enumerate(image_list):\n",
    "            image_path = os.path.join(fruit_path, img)\n",
    "            if i < sample_count:\n",
    "                img = plt.imread(image_path)               \n",
    "                height += img.shape[0]\n",
    "                width += img.shape[1]\n",
    "                samples +=1\n",
    "            file_paths.append(image_path)\n",
    "            if fruit_quality == mixed_quality_path:\n",
    "                labels.append(fruit + '_Mixed')\n",
    "            else:\n",
    "                labels.append(fruit)\n",
    "\n",
    "fruit_series = pd.Series(file_paths, name='image')\n",
    "label_series = pd.Series(labels, name='label')\n",
    "df = pd.concat([fruit_series, label_series], axis=1)"
   ]
  },
  {
   "cell_type": "code",
   "execution_count": 3,
   "metadata": {},
   "outputs": [
    {
     "data": {
      "text/html": [
       "<div>\n",
       "<style scoped>\n",
       "    .dataframe tbody tr th:only-of-type {\n",
       "        vertical-align: middle;\n",
       "    }\n",
       "\n",
       "    .dataframe tbody tr th {\n",
       "        vertical-align: top;\n",
       "    }\n",
       "\n",
       "    .dataframe thead th {\n",
       "        text-align: right;\n",
       "    }\n",
       "</style>\n",
       "<table border=\"1\" class=\"dataframe\">\n",
       "  <thead>\n",
       "    <tr style=\"text-align: right;\">\n",
       "      <th></th>\n",
       "      <th>image</th>\n",
       "      <th>label</th>\n",
       "    </tr>\n",
       "  </thead>\n",
       "  <tbody>\n",
       "    <tr>\n",
       "      <th>0</th>\n",
       "      <td>../data/raw/fruit_images/bad_quality_fruits\\Ap...</td>\n",
       "      <td>Apple_Bad</td>\n",
       "    </tr>\n",
       "    <tr>\n",
       "      <th>1</th>\n",
       "      <td>../data/raw/fruit_images/bad_quality_fruits\\Ap...</td>\n",
       "      <td>Apple_Bad</td>\n",
       "    </tr>\n",
       "    <tr>\n",
       "      <th>2</th>\n",
       "      <td>../data/raw/fruit_images/bad_quality_fruits\\Ap...</td>\n",
       "      <td>Apple_Bad</td>\n",
       "    </tr>\n",
       "    <tr>\n",
       "      <th>3</th>\n",
       "      <td>../data/raw/fruit_images/bad_quality_fruits\\Ap...</td>\n",
       "      <td>Apple_Bad</td>\n",
       "    </tr>\n",
       "    <tr>\n",
       "      <th>4</th>\n",
       "      <td>../data/raw/fruit_images/bad_quality_fruits\\Ap...</td>\n",
       "      <td>Apple_Bad</td>\n",
       "    </tr>\n",
       "    <tr>\n",
       "      <th>5</th>\n",
       "      <td>../data/raw/fruit_images/bad_quality_fruits\\Ap...</td>\n",
       "      <td>Apple_Bad</td>\n",
       "    </tr>\n",
       "    <tr>\n",
       "      <th>6</th>\n",
       "      <td>../data/raw/fruit_images/bad_quality_fruits\\Ap...</td>\n",
       "      <td>Apple_Bad</td>\n",
       "    </tr>\n",
       "    <tr>\n",
       "      <th>7</th>\n",
       "      <td>../data/raw/fruit_images/bad_quality_fruits\\Ap...</td>\n",
       "      <td>Apple_Bad</td>\n",
       "    </tr>\n",
       "    <tr>\n",
       "      <th>8</th>\n",
       "      <td>../data/raw/fruit_images/bad_quality_fruits\\Ap...</td>\n",
       "      <td>Apple_Bad</td>\n",
       "    </tr>\n",
       "    <tr>\n",
       "      <th>9</th>\n",
       "      <td>../data/raw/fruit_images/bad_quality_fruits\\Ap...</td>\n",
       "      <td>Apple_Bad</td>\n",
       "    </tr>\n",
       "  </tbody>\n",
       "</table>\n",
       "</div>"
      ],
      "text/plain": [
       "                                               image      label\n",
       "0  ../data/raw/fruit_images/bad_quality_fruits\\Ap...  Apple_Bad\n",
       "1  ../data/raw/fruit_images/bad_quality_fruits\\Ap...  Apple_Bad\n",
       "2  ../data/raw/fruit_images/bad_quality_fruits\\Ap...  Apple_Bad\n",
       "3  ../data/raw/fruit_images/bad_quality_fruits\\Ap...  Apple_Bad\n",
       "4  ../data/raw/fruit_images/bad_quality_fruits\\Ap...  Apple_Bad\n",
       "5  ../data/raw/fruit_images/bad_quality_fruits\\Ap...  Apple_Bad\n",
       "6  ../data/raw/fruit_images/bad_quality_fruits\\Ap...  Apple_Bad\n",
       "7  ../data/raw/fruit_images/bad_quality_fruits\\Ap...  Apple_Bad\n",
       "8  ../data/raw/fruit_images/bad_quality_fruits\\Ap...  Apple_Bad\n",
       "9  ../data/raw/fruit_images/bad_quality_fruits\\Ap...  Apple_Bad"
      ]
     },
     "execution_count": 3,
     "metadata": {},
     "output_type": "execute_result"
    }
   ],
   "source": [
    "df.head(10)"
   ]
  },
  {
   "cell_type": "code",
   "execution_count": 4,
   "metadata": {},
   "outputs": [],
   "source": [
    "def df_information(df_: pd.DataFrame):    \n",
    "    class_count= len(list(df[\"label\"].unique()))\n",
    "    print(f\"The dataset contains {df_.shape[0]} images.\")\n",
    "    print(f\"The dataset contains the following {class_count} distinct classes. \\n\")\n",
    "\n",
    "    for fruit_class in list(df[\"label\"].unique()):\n",
    "        print(fruit_class)\n",
    "\n",
    "    items_per_class = list(df_[\"label\"].value_counts())\n",
    "    print(f\"\\nEach of the above classses contains {items_per_class} images.\")"
   ]
  },
  {
   "cell_type": "code",
   "execution_count": 5,
   "metadata": {},
   "outputs": [
    {
     "name": "stdout",
     "output_type": "stream",
     "text": [
      "The dataset contains 19522 images.\n",
      "The dataset contains the following 18 distinct classes. \n",
      "\n",
      "Apple_Bad\n",
      "Banana_Bad\n",
      "Guava_Bad\n",
      "Lime_Bad\n",
      "Orange_Bad\n",
      "Pomegranate_Bad\n",
      "Apple_Good\n",
      "Banana_Good\n",
      "Guava_Good\n",
      "Lime_Good\n",
      "Orange_Good\n",
      "Pomegranate_Good\n",
      "Apple_Mixed\n",
      "Banana_Mixed\n",
      "Guava_Mixed\n",
      "Lemon_Mixed\n",
      "Orange_Mixed\n",
      "Pomegranate_Mixed\n",
      "\n",
      "Each of the above classses contains [5940, 1216, 1187, 1159, 1152, 1149, 1137, 1129, 1113, 1094, 1087, 1085, 285, 278, 148, 125, 125, 113] images.\n"
     ]
    }
   ],
   "source": [
    "df_information(df)"
   ]
  },
  {
   "cell_type": "code",
   "execution_count": 6,
   "metadata": {},
   "outputs": [
    {
     "name": "stdout",
     "output_type": "stream",
     "text": [
      "Train set length: 13665\n",
      "Validation set length: 2928\n",
      "Test set length: 2929\n"
     ]
    }
   ],
   "source": [
    "# Split the DataFrame into train (70%), validation (15%), and test (15%)\n",
    "train_df, test_and_val_df = train_test_split(df, test_size=0.3, random_state=42)\n",
    "val_df, test_df = train_test_split(test_and_val_df, test_size=0.5, random_state=42)\n",
    "\n",
    "# Check the lengths of the resulting DataFrames\n",
    "print(\"Train set length:\", len(train_df))\n",
    "print(\"Validation set length:\", len(val_df))\n",
    "print(\"Test set length:\", len(test_df))\n"
   ]
  },
  {
   "cell_type": "code",
   "execution_count": 7,
   "metadata": {},
   "outputs": [],
   "source": [
    "def df_trim(df_: pd.DataFrame, desired_samples_per_class: int) -> pd.DataFrame:\n",
    "\n",
    "    # Create an empty DataFrame to store the trimmed data\n",
    "    trimmed_train_df = pd.DataFrame(columns=df_.columns)\n",
    "\n",
    "    # Iterate through each class and select the first 200 samples\n",
    "    for class_name in train_df['label'].unique():\n",
    "        class_samples = train_df[train_df['label'] == class_name].head(desired_samples_per_class)\n",
    "        trimmed_train_df = pd.concat([trimmed_train_df, class_samples])\n",
    "\n",
    "    # Reset the index of the trimmed DataFrame\n",
    "    trimmed_train_df.reset_index(drop=True, inplace=True)\n",
    "\n",
    "    return trimmed_train_df"
   ]
  },
  {
   "cell_type": "code",
   "execution_count": 8,
   "metadata": {},
   "outputs": [
    {
     "name": "stdout",
     "output_type": "stream",
     "text": [
      "The dataset contains 3149 images.\n",
      "The dataset contains the following 18 distinct classes. \n",
      "\n",
      "Apple_Bad\n",
      "Banana_Bad\n",
      "Guava_Bad\n",
      "Lime_Bad\n",
      "Orange_Bad\n",
      "Pomegranate_Bad\n",
      "Apple_Good\n",
      "Banana_Good\n",
      "Guava_Good\n",
      "Lime_Good\n",
      "Orange_Good\n",
      "Pomegranate_Good\n",
      "Apple_Mixed\n",
      "Banana_Mixed\n",
      "Guava_Mixed\n",
      "Lemon_Mixed\n",
      "Orange_Mixed\n",
      "Pomegranate_Mixed\n",
      "\n",
      "Each of the above classses contains [200, 200, 200, 200, 200, 200, 200, 200, 200, 200, 200, 200, 200, 193, 100, 88, 85, 83] images.\n"
     ]
    }
   ],
   "source": [
    "trimmed_train_df = df_trim(df_= train_df, desired_samples_per_class=200)\n",
    "\n",
    "df_information(df_= trimmed_train_df)"
   ]
  },
  {
   "cell_type": "code",
   "execution_count": 9,
   "metadata": {},
   "outputs": [],
   "source": [
    "def classes_with_less_than_n_samples(df_: pd.DataFrame, desired_samples_per_class: int):\n",
    "    class_counts = df_['label'].value_counts()\n",
    "    classes_with_less_than_n_samples_list =  class_counts[class_counts < desired_samples_per_class].index.tolist()\n",
    "    print(f\"Classes with less than {desired_samples_per_class} samples : {classes_with_less_than_n_samples_list}\")\n",
    "\n",
    "    return classes_with_less_than_n_samples_list"
   ]
  },
  {
   "cell_type": "code",
   "execution_count": 17,
   "metadata": {},
   "outputs": [],
   "source": [
    "# Define a data augmentation function\n",
    "import random\n",
    "\n",
    "def augment_image(image_path, save_folder):\n",
    "    os.makedirs(save_folder, exist_ok=True)\n",
    "    image = Image.open(image_path)\n",
    "    # Apply random rotation (you can customize the rotation angle)\n",
    "    angle = np.random.randint(-15, 15)\n",
    "    augmented_image = image.rotate(angle)\n",
    "\n",
    "    # Apply horizontal flip with a 50% chance\n",
    "    if np.random.choice([True, False]):\n",
    "        augmented_image = ImageOps.mirror(augmented_image)\n",
    "\n",
    "    if save_folder:\n",
    "        # Ensure the save folder exists\n",
    "        os.makedirs(save_folder, exist_ok=True)\n",
    "        filename = f\"AUG_IMG_{np.random.randint(1000)}_{angle}.jpg\"\n",
    "        augmented_image.save(os.path.join(save_folder, filename))\n",
    "    \n",
    "    return augmented_image\n"
   ]
  },
  {
   "cell_type": "code",
   "execution_count": 22,
   "metadata": {},
   "outputs": [],
   "source": [
    "def df_balance(df_: pd.DataFrame, desired_samples_per_class : int) -> pd.DataFrame:\n",
    "    save_folder = os.path.join(data_dir, \"augmented\")\n",
    "    print(save_folder)\n",
    "    # Iterate through the classes with fewer than 200 samples\n",
    "    target_class = classes_with_less_than_n_samples(df_=df_, desired_samples_per_class=200)\n",
    "    for class_name in target_class:\n",
    "            class_samples = df_[df_[\"label\"]==class_name].value_counts()\n",
    "            class_df = df_[df_[\"label\"] == class_name]\n",
    "\n",
    "            images_to_augment = len(class_samples)\n",
    "            while images_to_augment < desired_samples_per_class:\n",
    "                \n",
    "                # Choose an image from the class\n",
    "                random_index = random.randint(0, len(class_df) - 1)\n",
    "                # Get the image file path at the random index\n",
    "                random_image = class_df.iloc[random_index][\"image\"]\n",
    "\n",
    "                # Apply data augmentation to generate a new image\n",
    "                augmented_image = augment_image(image_path=random_image, save_folder=save_folder)\n",
    "\n",
    "                # Append the augmented image to your dataset\n",
    "                new_df = pd.DataFrame({'image': [augmented_image], 'label': [class_name]})\n",
    "                df_ = pd.concat([df_, new_df], ignore_index=True)\n",
    "                images_to_augment+=1\n",
    "            print(f\"For class [{class_name}] I have augmented [{desired_samples_per_class-len(class_samples)}] images.\")\n",
    "    return df_\n"
   ]
  },
  {
   "cell_type": "code",
   "execution_count": 23,
   "metadata": {},
   "outputs": [
    {
     "name": "stdout",
     "output_type": "stream",
     "text": [
      "../data/raw/fruit_images\\augmented\n",
      "Classes with less than 200 samples : ['Lemon_Mixed', 'Guava_Mixed', 'Orange_Mixed', 'Pomegranate_Mixed', 'Apple_Mixed']\n",
      "For class [Lemon_Mixed] I have augmented [7] images.\n",
      "For class [Guava_Mixed] I have augmented [100] images.\n",
      "For class [Orange_Mixed] I have augmented [112] images.\n",
      "For class [Pomegranate_Mixed] I have augmented [115] images.\n",
      "For class [Apple_Mixed] I have augmented [117] images.\n"
     ]
    }
   ],
   "source": [
    "df_balanced = df_balance(trimmed_train_df, 200)"
   ]
  },
  {
   "cell_type": "code",
   "execution_count": 24,
   "metadata": {},
   "outputs": [
    {
     "name": "stdout",
     "output_type": "stream",
     "text": [
      "The dataset contains 3600 images.\n",
      "The dataset contains the following 18 distinct classes. \n",
      "\n",
      "Apple_Bad\n",
      "Banana_Bad\n",
      "Guava_Bad\n",
      "Lime_Bad\n",
      "Orange_Bad\n",
      "Pomegranate_Bad\n",
      "Apple_Good\n",
      "Banana_Good\n",
      "Guava_Good\n",
      "Lime_Good\n",
      "Orange_Good\n",
      "Pomegranate_Good\n",
      "Apple_Mixed\n",
      "Banana_Mixed\n",
      "Guava_Mixed\n",
      "Lemon_Mixed\n",
      "Orange_Mixed\n",
      "Pomegranate_Mixed\n",
      "\n",
      "Each of the above classses contains [200, 200, 200, 200, 200, 200, 200, 200, 200, 200, 200, 200, 200, 200, 200, 200, 200, 200] images.\n"
     ]
    }
   ],
   "source": [
    "df_information(df_balanced)"
   ]
  }
 ],
 "metadata": {
  "kernelspec": {
   "display_name": ".venv",
   "language": "python",
   "name": "python3"
  },
  "language_info": {
   "codemirror_mode": {
    "name": "ipython",
    "version": 3
   },
   "file_extension": ".py",
   "mimetype": "text/x-python",
   "name": "python",
   "nbconvert_exporter": "python",
   "pygments_lexer": "ipython3",
   "version": "3.9.13"
  }
 },
 "nbformat": 4,
 "nbformat_minor": 2
}
